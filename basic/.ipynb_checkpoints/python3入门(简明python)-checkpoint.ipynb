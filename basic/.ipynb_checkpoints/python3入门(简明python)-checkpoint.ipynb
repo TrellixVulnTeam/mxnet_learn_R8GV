{
 "cells": [
  {
   "cell_type": "markdown",
   "metadata": {},
   "source": [
    "#### 输出"
   ]
  },
  {
   "cell_type": "code",
   "execution_count": 2,
   "metadata": {
    "collapsed": false
   },
   "outputs": [
    {
     "name": "stdout",
     "output_type": "stream",
     "text": [
      "hello world\n"
     ]
    }
   ],
   "source": [
    "print('hello world')"
   ]
  },
  {
   "cell_type": "markdown",
   "metadata": {},
   "source": [
    "添加注释"
   ]
  },
  {
   "cell_type": "code",
   "execution_count": 4,
   "metadata": {
    "collapsed": false
   },
   "outputs": [
    {
     "name": "stdout",
     "output_type": "stream",
     "text": [
      "hello world\n"
     ]
    }
   ],
   "source": [
    "print('hello world') #输出"
   ]
  },
  {
   "cell_type": "markdown",
   "metadata": {},
   "source": [
    "#### 函数"
   ]
  },
  {
   "cell_type": "code",
   "execution_count": 7,
   "metadata": {
    "collapsed": false
   },
   "outputs": [
    {
     "name": "stdout",
     "output_type": "stream",
     "text": [
      "hello world\n"
     ]
    }
   ],
   "source": [
    "def say_hello():\n",
    "    print('hello world')\n",
    "say_hello()"
   ]
  },
  {
   "cell_type": "markdown",
   "metadata": {},
   "source": [
    "函数参数"
   ]
  },
  {
   "cell_type": "code",
   "execution_count": 8,
   "metadata": {
    "collapsed": false
   },
   "outputs": [
    {
     "name": "stdout",
     "output_type": "stream",
     "text": [
      "5\n"
     ]
    }
   ],
   "source": [
    "def print_max(a, b):\n",
    "    if a > b:\n",
    "        print(a)\n",
    "    elif a == b:\n",
    "        print(a)\n",
    "    else:\n",
    "        print(b)\n",
    "print_max(3, 5)"
   ]
  },
  {
   "cell_type": "markdown",
   "metadata": {},
   "source": [
    "参数默认值"
   ]
  },
  {
   "cell_type": "code",
   "execution_count": 9,
   "metadata": {
    "collapsed": false
   },
   "outputs": [
    {
     "name": "stdout",
     "output_type": "stream",
     "text": [
      "hello\n",
      "ni hao. ni hao. ni hao. ni hao. ni hao. \n"
     ]
    }
   ],
   "source": [
    "def say(message, times = 1):\n",
    "    print(message * times)\n",
    "say('hello')\n",
    "say('ni hao. ', 5)"
   ]
  },
  {
   "cell_type": "markdown",
   "metadata": {},
   "source": [
    "关键字参数"
   ]
  },
  {
   "cell_type": "code",
   "execution_count": 6,
   "metadata": {
    "collapsed": false
   },
   "outputs": [
    {
     "name": "stdout",
     "output_type": "stream",
     "text": [
      "a= 1 b= 4 c= 10\n",
      "a= 5 b= 4 c= 33\n"
     ]
    }
   ],
   "source": [
    "def func(a, b = 4, c = 10):\n",
    "    print('a= {}'.format(a), 'b=', b,'c=',c)\n",
    "func(1)\n",
    "func(5, c = 33)"
   ]
  },
  {
   "cell_type": "markdown",
   "metadata": {},
   "source": [
    "可变参数\n",
    "```\n",
    "*param 的参数为元组\n",
    "**param 的参数为字典\n",
    "```"
   ]
  },
  {
   "cell_type": "code",
   "execution_count": 8,
   "metadata": {
    "collapsed": false
   },
   "outputs": [
    {
     "name": "stdout",
     "output_type": "stream",
     "text": [
      "a 777\n",
      "single_item 1\n",
      "single_item 2\n",
      "single_item 3\n",
      "age 23\n",
      "name tian\n"
     ]
    }
   ],
   "source": [
    "def total(a = 5, *numbers, **phonebooks):\n",
    "    print('a', a)\n",
    "    for single_item in numbers:\n",
    "        print('single_item', single_item)\n",
    "    for first_part, second_part in phonebooks.items():\n",
    "        print(first_part, second_part)\n",
    "total(777, 1, 2, 3, name='tian', age = 23)"
   ]
  },
  {
   "cell_type": "markdown",
   "metadata": {},
   "source": [
    "DocStrings 文档字符串"
   ]
  },
  {
   "cell_type": "code",
   "execution_count": 9,
   "metadata": {
    "collapsed": false
   },
   "outputs": [
    {
     "name": "stdout",
     "output_type": "stream",
     "text": [
      "5\n",
      "Prints the max of two numbers. 打印两个数值中的最大值\n",
      "    The two values must be integers. 这两个数都应该是整数\n",
      "    \n"
     ]
    }
   ],
   "source": [
    "def print_max(x, y):\n",
    "    '''Prints the max of two numbers. 打印两个数值中的最大值\n",
    "    The two values must be integers. 这两个数都应该是整数\n",
    "    '''\n",
    "    x = int(x)\n",
    "    y = int(y)\n",
    "    if x > y:\n",
    "        print(x)\n",
    "    else:\n",
    "        print(y)\n",
    "print_max(3, 5)\n",
    "print(print_max.__doc__)"
   ]
  },
  {
   "cell_type": "markdown",
   "metadata": {},
   "source": [
    "#### 模块"
   ]
  },
  {
   "cell_type": "code",
   "execution_count": 10,
   "metadata": {
    "collapsed": false
   },
   "outputs": [
    {
     "name": "stdout",
     "output_type": "stream",
     "text": [
      "D:\\Anaconda\\lib\\site-packages\\ipykernel\\__main__.py\n",
      "-f\n",
      "C:\\Users\\mengtian\\AppData\\Roaming\\jupyter\\runtime\\kernel-dcc716fe-6202-4542-b0ce-2bc139fae76d.json\n",
      "python path: ['', 'D:\\\\Anaconda\\\\python35.zip', 'D:\\\\Anaconda\\\\DLLs', 'D:\\\\Anaconda\\\\lib', 'D:\\\\Anaconda', 'D:\\\\Anaconda\\\\lib\\\\site-packages', 'D:\\\\Anaconda\\\\lib\\\\site-packages\\\\Sphinx-1.4.1-py3.5.egg', 'D:\\\\Anaconda\\\\lib\\\\site-packages\\\\win32', 'D:\\\\Anaconda\\\\lib\\\\site-packages\\\\win32\\\\lib', 'D:\\\\Anaconda\\\\lib\\\\site-packages\\\\Pythonwin', 'D:\\\\Anaconda\\\\lib\\\\site-packages\\\\setuptools-23.0.0-py3.5.egg', 'D:\\\\Anaconda\\\\lib\\\\site-packages\\\\IPython\\\\extensions', 'C:\\\\Users\\\\mengtian\\\\.ipython']\n"
     ]
    }
   ],
   "source": [
    "import sys\n",
    "\n",
    "for i in sys.argv:\n",
    "    print(i)\n",
    "print('python path:', sys.path)"
   ]
  },
  {
   "cell_type": "markdown",
   "metadata": {},
   "source": [
    "只导入模块部分功能"
   ]
  },
  {
   "cell_type": "code",
   "execution_count": 11,
   "metadata": {
    "collapsed": false
   },
   "outputs": [
    {
     "name": "stdout",
     "output_type": "stream",
     "text": [
      "4.0\n"
     ]
    }
   ],
   "source": [
    "from math import sqrt\n",
    "print(sqrt(16))"
   ]
  },
  {
   "cell_type": "code",
   "execution_count": 13,
   "metadata": {
    "collapsed": false
   },
   "outputs": [
    {
     "name": "stdout",
     "output_type": "stream",
     "text": [
      "5.0\n"
     ]
    }
   ],
   "source": [
    "import math\n",
    "print(math.sqrt(25))"
   ]
  },
  {
   "cell_type": "markdown",
   "metadata": {},
   "source": [
    "模块的`__name__`"
   ]
  },
  {
   "cell_type": "code",
   "execution_count": 16,
   "metadata": {
    "collapsed": false,
    "scrolled": true
   },
   "outputs": [
    {
     "name": "stdout",
     "output_type": "stream",
     "text": [
      "this program is being run by itself\n",
      "sqrt\n"
     ]
    }
   ],
   "source": [
    "if __name__ == '__main__':\n",
    "    print('this program is being run by itself')\n",
    "else:\n",
    "    print('i am being imported from another module')\n",
    "print(sqrt.__name__)"
   ]
  },
  {
   "cell_type": "markdown",
   "metadata": {},
   "source": [
    "#### dir 函数\n",
    "dir 函数是python内置的，能够返回对象定义的名称列表"
   ]
  },
  {
   "cell_type": "code",
   "execution_count": 17,
   "metadata": {
    "collapsed": false
   },
   "outputs": [
    {
     "data": {
      "text/plain": [
       "['__displayhook__',\n",
       " '__doc__',\n",
       " '__excepthook__',\n",
       " '__interactivehook__',\n",
       " '__loader__',\n",
       " '__name__',\n",
       " '__package__',\n",
       " '__spec__',\n",
       " '__stderr__',\n",
       " '__stdin__',\n",
       " '__stdout__',\n",
       " '_clear_type_cache',\n",
       " '_current_frames',\n",
       " '_debugmallocstats',\n",
       " '_getframe',\n",
       " '_home',\n",
       " '_mercurial',\n",
       " '_xoptions',\n",
       " 'api_version',\n",
       " 'argv',\n",
       " 'base_exec_prefix',\n",
       " 'base_prefix',\n",
       " 'builtin_module_names',\n",
       " 'byteorder',\n",
       " 'call_tracing',\n",
       " 'callstats',\n",
       " 'copyright',\n",
       " 'displayhook',\n",
       " 'dllhandle',\n",
       " 'dont_write_bytecode',\n",
       " 'exc_info',\n",
       " 'excepthook',\n",
       " 'exec_prefix',\n",
       " 'executable',\n",
       " 'exit',\n",
       " 'flags',\n",
       " 'float_info',\n",
       " 'float_repr_style',\n",
       " 'get_coroutine_wrapper',\n",
       " 'getallocatedblocks',\n",
       " 'getcheckinterval',\n",
       " 'getdefaultencoding',\n",
       " 'getfilesystemencoding',\n",
       " 'getprofile',\n",
       " 'getrecursionlimit',\n",
       " 'getrefcount',\n",
       " 'getsizeof',\n",
       " 'getswitchinterval',\n",
       " 'gettrace',\n",
       " 'getwindowsversion',\n",
       " 'hash_info',\n",
       " 'hexversion',\n",
       " 'implementation',\n",
       " 'int_info',\n",
       " 'intern',\n",
       " 'is_finalizing',\n",
       " 'last_traceback',\n",
       " 'last_type',\n",
       " 'last_value',\n",
       " 'maxsize',\n",
       " 'maxunicode',\n",
       " 'meta_path',\n",
       " 'modules',\n",
       " 'path',\n",
       " 'path_hooks',\n",
       " 'path_importer_cache',\n",
       " 'platform',\n",
       " 'prefix',\n",
       " 'ps1',\n",
       " 'ps2',\n",
       " 'ps3',\n",
       " 'set_coroutine_wrapper',\n",
       " 'setcheckinterval',\n",
       " 'setprofile',\n",
       " 'setrecursionlimit',\n",
       " 'setswitchinterval',\n",
       " 'settrace',\n",
       " 'stderr',\n",
       " 'stdin',\n",
       " 'stdout',\n",
       " 'thread_info',\n",
       " 'version',\n",
       " 'version_info',\n",
       " 'warnoptions',\n",
       " 'winver']"
      ]
     },
     "execution_count": 17,
     "metadata": {},
     "output_type": "execute_result"
    }
   ],
   "source": [
    "import sys\n",
    "dir(sys)"
   ]
  },
  {
   "cell_type": "code",
   "execution_count": 20,
   "metadata": {
    "collapsed": false
   },
   "outputs": [
    {
     "data": {
      "text/plain": [
       "['In',\n",
       " 'Out',\n",
       " '_',\n",
       " '_17',\n",
       " '_18',\n",
       " '_19',\n",
       " '__',\n",
       " '___',\n",
       " '__builtin__',\n",
       " '__builtins__',\n",
       " '__doc__',\n",
       " '__loader__',\n",
       " '__name__',\n",
       " '__package__',\n",
       " '__spec__',\n",
       " '_dh',\n",
       " '_i',\n",
       " '_i1',\n",
       " '_i10',\n",
       " '_i11',\n",
       " '_i12',\n",
       " '_i13',\n",
       " '_i14',\n",
       " '_i15',\n",
       " '_i16',\n",
       " '_i17',\n",
       " '_i18',\n",
       " '_i19',\n",
       " '_i2',\n",
       " '_i20',\n",
       " '_i3',\n",
       " '_i4',\n",
       " '_i5',\n",
       " '_i6',\n",
       " '_i7',\n",
       " '_i8',\n",
       " '_i9',\n",
       " '_ih',\n",
       " '_ii',\n",
       " '_iii',\n",
       " '_oh',\n",
       " '_sh',\n",
       " 'exit',\n",
       " 'func',\n",
       " 'get_ipython',\n",
       " 'i',\n",
       " 'math',\n",
       " 'print_max',\n",
       " 'quit',\n",
       " 'sqrt',\n",
       " 'sys',\n",
       " 'total']"
      ]
     },
     "execution_count": 20,
     "metadata": {},
     "output_type": "execute_result"
    }
   ],
   "source": [
    "dir() # 给出当前模块的属性名称，注意最后的'i','math','print_max','quit', 'sqrt','sys','total'，是我们在此模块中自己定义的一些变量和方法"
   ]
  },
  {
   "cell_type": "markdown",
   "metadata": {},
   "source": [
    "#### 数据结构\n",
    "1. 列表(List)\n",
    "2. 元组(Tuple)\n",
    "3. 字典(Dictionary)\n",
    "4. 集合(Set)"
   ]
  },
  {
   "cell_type": "markdown",
   "metadata": {},
   "source": [
    "List 列表"
   ]
  },
  {
   "cell_type": "code",
   "execution_count": 30,
   "metadata": {
    "collapsed": false,
    "scrolled": true
   },
   "outputs": [
    {
     "name": "stdout",
     "output_type": "stream",
     "text": [
      "i have  4 items to purchase\n",
      "These items are: apple orange mango carrot \n",
      "\n",
      "['apple', 'mango', 'carrot', 'rice']\n",
      "\n",
      " sort the list\n",
      "['apple', 'carrot', 'mango', 'rice']\n"
     ]
    }
   ],
   "source": [
    "#声明一个List\n",
    "shopList = ['apple', 'orange', 'mango', 'carrot']\n",
    "print('i have ', len(shopList), 'items to purchase')\n",
    "print('These items are:', end=' ') # end 参数，以一个空格来结束输出，而不是换行\n",
    "\n",
    "for item in shopList:\n",
    "    print(item, end = ' ')\n",
    "print('\\n')\n",
    "#列表添加\n",
    "shopList.append('rice')\n",
    "# 列表移除\n",
    "shopList.remove('orange')\n",
    "print(shopList)\n",
    "#排序\n",
    "print('\\n sort the list')\n",
    "shopList.sort()\n",
    "print(shopList)"
   ]
  },
  {
   "cell_type": "markdown",
   "metadata": {},
   "source": [
    "元组 Tuple\n",
    "\n",
    "!!元组是不可变的"
   ]
  },
  {
   "cell_type": "code",
   "execution_count": 35,
   "metadata": {
    "collapsed": false
   },
   "outputs": [
    {
     "name": "stdout",
     "output_type": "stream",
     "text": [
      "size: 3\n",
      "new_zoo: ('monkey', 'camle', ('python', 'elephant', 'penguin'))\n",
      "new_zoo[2]: ('python', 'elephant', 'penguin')\n"
     ]
    }
   ],
   "source": [
    "zoo = ('python', 'elephant', 'penguin')\n",
    "print('size:', len(zoo))\n",
    "\n",
    "new_zoo = 'monkey', 'camle', zoo\n",
    "print('new_zoo:', new_zoo)\n",
    "print('new_zoo[2]:', new_zoo[2])"
   ]
  },
  {
   "cell_type": "code",
   "execution_count": 37,
   "metadata": {
    "collapsed": false
   },
   "outputs": [
    {
     "ename": "TypeError",
     "evalue": "'tuple' object does not support item assignment",
     "output_type": "error",
     "traceback": [
      "\u001b[1;31m---------------------------------------------------------------------------\u001b[0m",
      "\u001b[1;31mTypeError\u001b[0m                                 Traceback (most recent call last)",
      "\u001b[1;32m<ipython-input-37-30d4d4928543>\u001b[0m in \u001b[0;36m<module>\u001b[1;34m()\u001b[0m\n\u001b[0;32m      1\u001b[0m \u001b[1;31m# 试着来改变元组的内容\u001b[0m\u001b[1;33m\u001b[0m\u001b[1;33m\u001b[0m\u001b[0m\n\u001b[1;32m----> 2\u001b[1;33m \u001b[0mzoo\u001b[0m\u001b[1;33m[\u001b[0m\u001b[1;36m1\u001b[0m\u001b[1;33m]\u001b[0m \u001b[1;33m=\u001b[0m \u001b[1;34m'dog'\u001b[0m\u001b[1;33m\u001b[0m\u001b[0m\n\u001b[0m",
      "\u001b[1;31mTypeError\u001b[0m: 'tuple' object does not support item assignment"
     ]
    }
   ],
   "source": [
    "# 试着来改变元组的内容\n",
    "zoo[1] = 'dog'"
   ]
  },
  {
   "cell_type": "markdown",
   "metadata": {},
   "source": [
    "字典\n",
    "\n",
    "key-value的形式，只能使用不可变对象（如字符串）作为字典的key"
   ]
  },
  {
   "cell_type": "code",
   "execution_count": 41,
   "metadata": {
    "collapsed": false
   },
   "outputs": [
    {
     "name": "stdout",
     "output_type": "stream",
     "text": [
      "tian\n",
      "key: email values is : wu750316@163.com\n",
      "key: age values is : 23\n",
      "key: name values is : tian\n",
      "key: email values is : wu750316@163.com\n",
      "key: name values is : mengtian\n"
     ]
    }
   ],
   "source": [
    "my_dic = {'name': 'tian', 'email': 'wu750316@163.com', 'age': 23}\n",
    "\n",
    "print(my_dic['name'])\n",
    "\n",
    "#遍历\n",
    "for key, value in my_dic.items():\n",
    "    print('key: {} values is : {}'. format(key, value))\n",
    "\n",
    "#删除\n",
    "del my_dic['age']\n",
    "\n",
    "# 修改值\n",
    "my_dic['name'] = 'mengtian'\n",
    "for key, value in my_dic.items():\n",
    "    print('key: {} values is : {}'. format(key, value))\n"
   ]
  },
  {
   "cell_type": "markdown",
   "metadata": {},
   "source": [
    "#### 类"
   ]
  },
  {
   "cell_type": "code",
   "execution_count": 52,
   "metadata": {
    "collapsed": false
   },
   "outputs": [
    {
     "name": "stdout",
     "output_type": "stream",
     "text": [
      "Person\n",
      "Person类\n",
      "    \n"
     ]
    }
   ],
   "source": [
    "class Person:\n",
    "    '''Person类\n",
    "    '''\n",
    "    def __init__(self, name):#__init__ 方法会在对象实例化的时候立即执行\n",
    "        self.name = name\n",
    "    def say_hi(self):\n",
    "        print('hi, my name is :{}, how are you?'.format(self.name))\n",
    "dir(Person)\n",
    "print(Person.__name__)\n",
    "print(Person.__doc__)"
   ]
  },
  {
   "cell_type": "code",
   "execution_count": 53,
   "metadata": {
    "collapsed": false
   },
   "outputs": [
    {
     "name": "stdout",
     "output_type": "stream",
     "text": [
      "hi, my name is :mengtian, how are you?\n"
     ]
    }
   ],
   "source": [
    "p = Person('mengtian')\n",
    "p.say_hi()"
   ]
  },
  {
   "cell_type": "code",
   "execution_count": 54,
   "metadata": {
    "collapsed": false
   },
   "outputs": [
    {
     "name": "stdout",
     "output_type": "stream",
     "text": [
      "greeting, my masters call me R1.\n",
      "we have 1 robots.\n"
     ]
    }
   ],
   "source": [
    "class Robot:\n",
    "    '''表示一个带有名字的机器人。'''\n",
    "    #机器人数量\n",
    "    population = 0\n",
    "    def __init__(self, name):\n",
    "        '''初始化数据'''\n",
    "        self.name = name\n",
    "        Robot.population += 1\n",
    "    def die(self):\n",
    "        '''清除机器人'''\n",
    "        Robot.population -= 1\n",
    "        if Robot.population == 0:\n",
    "            print('{} was the last one.'.format(self.name))\n",
    "        else:\n",
    "            print('There are still {:d} robots working.'.format(Robot.population))\n",
    "    def say_hi(self):\n",
    "        print('greeting, my masters call me {}.'.format(self.name))\n",
    "    @classmethod\n",
    "    def how_many(cls):\n",
    "        '''打印出当前机器人数量'''\n",
    "        print('we have {:d} robots.'.format(cls.population))\n",
    "        \n",
    "r1 = Robot('R1')\n",
    "r1.say_hi()\n",
    "r1.how_many()"
   ]
  },
  {
   "cell_type": "code",
   "execution_count": 55,
   "metadata": {
    "collapsed": false
   },
   "outputs": [
    {
     "name": "stdout",
     "output_type": "stream",
     "text": [
      "greeting, my masters call me R2.\n",
      "we have 2 robots.\n",
      "There are still 1 robots working.\n",
      "R2 was the last one.\n",
      "we have 0 robots.\n"
     ]
    }
   ],
   "source": [
    "r2 = Robot('R2')\n",
    "r2.say_hi()\n",
    "r2.how_many()\n",
    "\n",
    "r1.die()\n",
    "r2.die()\n",
    "\n",
    "Robot.how_many()"
   ]
  },
  {
   "cell_type": "markdown",
   "metadata": {},
   "source": [
    "#### 继承"
   ]
  },
  {
   "cell_type": "code",
   "execution_count": 57,
   "metadata": {
    "collapsed": false
   },
   "outputs": [
    {
     "name": "stdout",
     "output_type": "stream",
     "text": [
      "[<__main__.Teacher object at 0x0000020BEBC17E80>, <__main__.Student object at 0x0000020BEBC17EF0>]\n",
      "name:mrs kevin ,age:40name:mengtian ,age:25"
     ]
    }
   ],
   "source": [
    "class SchoolMember:\n",
    "    '''代表学校里的成员'''\n",
    "    def __init__(self, name, age):\n",
    "        self.name = name\n",
    "        self.age = age\n",
    "    \n",
    "    def tell(self):\n",
    "        print('name:{} ,age:{}'.format(self.name, self.age), end = '')\n",
    "\n",
    "class Teacher(SchoolMember):\n",
    "    '''代表一位老师'''\n",
    "    def __init__(self, name, age, salary):\n",
    "        SchoolMember.__init__(self, name, age)\n",
    "        self.salary = salary\n",
    "        \n",
    "    def tell(self):\n",
    "        SchoolMember.tell(self)\n",
    "        \n",
    "class Student(SchoolMember):\n",
    "    '''代表一位学生'''\n",
    "    def __init__(self, name, age, marks):\n",
    "        SchoolMember.__init__(self, name, age)\n",
    "        self.marks = marks\n",
    "    \n",
    "    def tell(self):\n",
    "        SchoolMember.tell(self)\n",
    "        \n",
    "\n",
    "t = Teacher('mrs kevin', 40, 30000)\n",
    "s = Student('mengtian', 25, 75)\n",
    "\n",
    "members = [t, s]\n",
    "print(members)\n",
    "\n",
    "for member in members:\n",
    "    member.tell()\n",
    "    "
   ]
  },
  {
   "cell_type": "markdown",
   "metadata": {},
   "source": [
    "#### 文件读写\n",
    "\n",
    "Pickle. Python\t提供了一个叫作\t\tPickle\t\t的标准模块，通过它你可以将任何纯\tPython\t对象存储到一 个文件中，并在稍后将其取回。这叫作持久地（Persistently）存储对象。"
   ]
  },
  {
   "cell_type": "code",
   "execution_count": 64,
   "metadata": {
    "collapsed": false
   },
   "outputs": [
    {
     "name": "stdout",
     "output_type": "stream",
     "text": [
      "['apple', 'mango', 'carrot']\n"
     ]
    }
   ],
   "source": [
    "import pickle\n",
    "\n",
    "shopListFile = 'shopList.data'\n",
    "shopList = ['apple', 'mango', 'carrot']\n",
    "\n",
    "f = open(shopListFile, 'wb')\n",
    "pickle.dump(shopList, f)\n",
    "f.close()\n",
    "\n",
    "del shopList\n",
    "\n",
    "f = open(shopListFile, 'rb')\n",
    "storedList = pickle.load(f)\n",
    "print(storedList)"
   ]
  },
  {
   "cell_type": "markdown",
   "metadata": {},
   "source": [
    "使用with 来读写文件，省去释放资源"
   ]
  },
  {
   "cell_type": "code",
   "execution_count": 66,
   "metadata": {
    "collapsed": false
   },
   "outputs": [
    {
     "name": "stdout",
     "output_type": "stream",
     "text": [
      "Imagine non-englise language here"
     ]
    }
   ],
   "source": [
    "with open('abc.txt') as f:\n",
    "    for line in f:\n",
    "        print(line, end='')"
   ]
  },
  {
   "cell_type": "markdown",
   "metadata": {},
   "source": [
    "编码"
   ]
  },
  {
   "cell_type": "code",
   "execution_count": 59,
   "metadata": {
    "collapsed": false
   },
   "outputs": [
    {
     "name": "stdout",
     "output_type": "stream",
     "text": [
      "Imagine non-englise language here\n"
     ]
    }
   ],
   "source": [
    "# encoding=utf-8\n",
    "\n",
    "# 文件头部添加 encoding=utf-8\n",
    "import io\n",
    "f = io.open('abc.txt', 'wt', encoding='utf-8')\n",
    "f.write(u'Imagine non-englise language here')\n",
    "f.close()\n",
    "\n",
    "text = io.open('abc.txt', encoding='utf-8').read()\n",
    "print(text)"
   ]
  },
  {
   "cell_type": "markdown",
   "metadata": {},
   "source": [
    "#### 异常处理"
   ]
  },
  {
   "cell_type": "code",
   "execution_count": 75,
   "metadata": {
    "collapsed": false
   },
   "outputs": [
    {
     "name": "stdout",
     "output_type": "stream",
     "text": [
      "error in div, can not div a num of 0\n",
      "done.\n"
     ]
    }
   ],
   "source": [
    "try:\n",
    "    div = 10 / 0\n",
    "except ZeroDivisionError:\n",
    "    print('error in div, can not div a num of 0')\n",
    "finally:\n",
    "    print('done.')"
   ]
  },
  {
   "cell_type": "markdown",
   "metadata": {},
   "source": [
    "#### 日志模块"
   ]
  },
  {
   "cell_type": "code",
   "execution_count": 77,
   "metadata": {
    "collapsed": false
   },
   "outputs": [
    {
     "ename": "TypeError",
     "evalue": "join() argument must be str or bytes, not 'NoneType'",
     "output_type": "error",
     "traceback": [
      "\u001b[1;31m---------------------------------------------------------------------------\u001b[0m",
      "\u001b[1;31mTypeError\u001b[0m                                 Traceback (most recent call last)",
      "\u001b[1;32m<ipython-input-77-2b33daa14f30>\u001b[0m in \u001b[0;36m<module>\u001b[1;34m()\u001b[0m\n\u001b[0;32m      8\u001b[0m                                 'test.log')\n\u001b[0;32m      9\u001b[0m \u001b[1;32melse\u001b[0m\u001b[1;33m:\u001b[0m\u001b[1;33m\u001b[0m\u001b[0m\n\u001b[1;32m---> 10\u001b[1;33m     \u001b[0mlogging_file\u001b[0m \u001b[1;33m=\u001b[0m \u001b[0mos\u001b[0m\u001b[1;33m.\u001b[0m\u001b[0mpath\u001b[0m\u001b[1;33m.\u001b[0m\u001b[0mjoin\u001b[0m\u001b[1;33m(\u001b[0m\u001b[0mos\u001b[0m\u001b[1;33m.\u001b[0m\u001b[0mgetenv\u001b[0m\u001b[1;33m(\u001b[0m\u001b[1;34m'HOME'\u001b[0m\u001b[1;33m)\u001b[0m\u001b[1;33m,\u001b[0m \u001b[1;34m'test.log'\u001b[0m\u001b[1;33m)\u001b[0m\u001b[1;33m\u001b[0m\u001b[0m\n\u001b[0m\u001b[0;32m     11\u001b[0m \u001b[1;33m\u001b[0m\u001b[0m\n\u001b[0;32m     12\u001b[0m logging.basicConfig(level = logging.DEBUG,\n",
      "\u001b[1;32mD:\\Anaconda\\lib\\ntpath.py\u001b[0m in \u001b[0;36mjoin\u001b[1;34m(path, *paths)\u001b[0m\n\u001b[0;32m    111\u001b[0m         \u001b[1;32mreturn\u001b[0m \u001b[0mresult_drive\u001b[0m \u001b[1;33m+\u001b[0m \u001b[0mresult_path\u001b[0m\u001b[1;33m\u001b[0m\u001b[0m\n\u001b[0;32m    112\u001b[0m     \u001b[1;32mexcept\u001b[0m \u001b[1;33m(\u001b[0m\u001b[0mTypeError\u001b[0m\u001b[1;33m,\u001b[0m \u001b[0mAttributeError\u001b[0m\u001b[1;33m,\u001b[0m \u001b[0mBytesWarning\u001b[0m\u001b[1;33m)\u001b[0m\u001b[1;33m:\u001b[0m\u001b[1;33m\u001b[0m\u001b[0m\n\u001b[1;32m--> 113\u001b[1;33m         \u001b[0mgenericpath\u001b[0m\u001b[1;33m.\u001b[0m\u001b[0m_check_arg_types\u001b[0m\u001b[1;33m(\u001b[0m\u001b[1;34m'join'\u001b[0m\u001b[1;33m,\u001b[0m \u001b[0mpath\u001b[0m\u001b[1;33m,\u001b[0m \u001b[1;33m*\u001b[0m\u001b[0mpaths\u001b[0m\u001b[1;33m)\u001b[0m\u001b[1;33m\u001b[0m\u001b[0m\n\u001b[0m\u001b[0;32m    114\u001b[0m         \u001b[1;32mraise\u001b[0m\u001b[1;33m\u001b[0m\u001b[0m\n\u001b[0;32m    115\u001b[0m \u001b[1;33m\u001b[0m\u001b[0m\n",
      "\u001b[1;32mD:\\Anaconda\\lib\\genericpath.py\u001b[0m in \u001b[0;36m_check_arg_types\u001b[1;34m(funcname, *args)\u001b[0m\n\u001b[0;32m    141\u001b[0m         \u001b[1;32melse\u001b[0m\u001b[1;33m:\u001b[0m\u001b[1;33m\u001b[0m\u001b[0m\n\u001b[0;32m    142\u001b[0m             raise TypeError('%s() argument must be str or bytes, not %r' %\n\u001b[1;32m--> 143\u001b[1;33m                             (funcname, s.__class__.__name__)) from None\n\u001b[0m\u001b[0;32m    144\u001b[0m     \u001b[1;32mif\u001b[0m \u001b[0mhasstr\u001b[0m \u001b[1;32mand\u001b[0m \u001b[0mhasbytes\u001b[0m\u001b[1;33m:\u001b[0m\u001b[1;33m\u001b[0m\u001b[0m\n\u001b[0;32m    145\u001b[0m         \u001b[1;32mraise\u001b[0m \u001b[0mTypeError\u001b[0m\u001b[1;33m(\u001b[0m\u001b[1;34m\"Can't mix strings and bytes in path components\"\u001b[0m\u001b[1;33m)\u001b[0m \u001b[1;32mfrom\u001b[0m \u001b[1;32mNone\u001b[0m\u001b[1;33m\u001b[0m\u001b[0m\n",
      "\u001b[1;31mTypeError\u001b[0m: join() argument must be str or bytes, not 'NoneType'"
     ]
    }
   ],
   "source": [
    "import os\n",
    "import platform\n",
    "import logging\n",
    "\n",
    "if platform.platform().startswith('windows'):\n",
    "    logging_file = os.path.join(os.getenv('HOMEDRIVE'),\n",
    "                                os.getenv('HOMEPATH'),\n",
    "                                'test.log')\n",
    "else:\n",
    "    logging_file = os.path.join(os.getenv('HOME'),\n",
    "                                'test.log')\n",
    "    \n",
    "logging.basicConfig(level = logging.DEBUG,\n",
    "                   format = '%(asctime)s: %(levelname)s : %(message)s',\n",
    "                   filename=logging_file,\n",
    "                   filemode='w')\n",
    "logging.debug('start of the program')\n",
    "logging.info('doing something')\n",
    "logging.warning('dying now')"
   ]
  },
  {
   "cell_type": "markdown",
   "metadata": {},
   "source": [
    "#### lambda"
   ]
  },
  {
   "cell_type": "code",
   "execution_count": 70,
   "metadata": {
    "collapsed": false
   },
   "outputs": [
    {
     "name": "stdout",
     "output_type": "stream",
     "text": [
      "[{'x': 4, 'y': 1}, {'x': 2, 'y': 3}]\n"
     ]
    }
   ],
   "source": [
    "points = [{'x': 2, 'y': 3}, {'x': 4, 'y': 1}]\n",
    "points.sort(key = lambda i: i['y'])\n",
    "print(points)"
   ]
  },
  {
   "cell_type": "markdown",
   "metadata": {},
   "source": [
    "列表推导\n",
    "\n",
    "从一份现有的列表中得到一份新的列表"
   ]
  },
  {
   "cell_type": "code",
   "execution_count": 71,
   "metadata": {
    "collapsed": false
   },
   "outputs": [
    {
     "name": "stdout",
     "output_type": "stream",
     "text": [
      "[6, 8]\n"
     ]
    }
   ],
   "source": [
    "listone = [2, 3, 4]\n",
    "listtwo = [2 * i for i in listone if i > 2]\n",
    "print(listtwo)"
   ]
  },
  {
   "cell_type": "markdown",
   "metadata": {},
   "source": [
    "#### 装饰器\n",
    "\n",
    "装饰器（Decorators）是应用包装函数的快捷方式"
   ]
  },
  {
   "cell_type": "code",
   "execution_count": 74,
   "metadata": {
    "collapsed": false
   },
   "outputs": [
    {
     "name": "stdout",
     "output_type": "stream",
     "text": [
      "Write to a database or make a network call or etc.\n",
      "This will be automatically retried if exception is thrown.\n",
      "Write to a database or make a network call or etc.\n",
      "This will be automatically retried if exception is thrown.\n"
     ]
    }
   ],
   "source": [
    "from time import sleep\n",
    "from functools import wraps\n",
    "import logging\n",
    "logging.basicConfig()\n",
    "log = logging.getLogger('retry')\n",
    "\n",
    "def retry(f):\n",
    "    @wraps(f)\n",
    "    def wrapped_f(*args, **kwargs):\n",
    "        MAX_ATTEMPTS = 5\n",
    "        for attempt in range(1, MAX_ATTEMPTS + 1):\n",
    "            try:\n",
    "                return f(*args, **kwargs)\n",
    "            except:\n",
    "                log.exception('attempt %s%s failed : %s', attempt, MAX_ATTEMPTS, (args, kwargs))\n",
    "                sleep(10 * attempt)\n",
    "        log.critical('all %s attempts failed: %s', MAX_ATTEMPTS, (args, kwargs))\n",
    "    return wrapped_f\n",
    "\n",
    "counter = 0\n",
    "\n",
    "@retry\n",
    "def save_to_database(arg):\n",
    "    print(\"Write to a database or make a network call or etc.\")\n",
    "    print(\"This will be automatically retried if exception is thrown.\")\n",
    "    global counter\n",
    "    counter += 1\n",
    "    if counter < 2:\n",
    "        raise ValueError(arg)\n",
    "\n",
    "if __name__ == '__main__':\n",
    "    save_to_database('some bad value')"
   ]
  },
  {
   "cell_type": "code",
   "execution_count": null,
   "metadata": {
    "collapsed": true
   },
   "outputs": [],
   "source": []
  }
 ],
 "metadata": {
  "kernelspec": {
   "display_name": "Python [Root]",
   "language": "python",
   "name": "Python [Root]"
  },
  "language_info": {
   "codemirror_mode": {
    "name": "ipython",
    "version": 3
   },
   "file_extension": ".py",
   "mimetype": "text/x-python",
   "name": "python",
   "nbconvert_exporter": "python",
   "pygments_lexer": "ipython3",
   "version": "3.5.2"
  }
 },
 "nbformat": 4,
 "nbformat_minor": 2
}
