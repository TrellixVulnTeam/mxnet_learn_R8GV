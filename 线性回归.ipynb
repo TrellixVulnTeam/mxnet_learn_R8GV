{
 "cells": [
  {
   "cell_type": "markdown",
   "metadata": {},
   "source": [
    "### 线性回归\n",
    "\n",
    "给定一个数据点集合X和对应的目标值Y，线性模型的目标就是找到一条使用向量w和位移b描述的线，来尽可能的近似每个样本X[i]和Y[i]。\n",
    "用数学符号来表示就是：\n",
    "\n",
    "```math\n",
    "   \\sum_{i=1}^n (\\hat{y}_i - y_i)^2.\n",
    "```"
   ]
  },
  {
   "cell_type": "code",
   "execution_count": null,
   "metadata": {},
   "outputs": [],
   "source": []
  }
 ],
 "metadata": {
  "kernelspec": {
   "display_name": "Python 3",
   "language": "python",
   "name": "python3"
  },
  "language_info": {
   "codemirror_mode": {
    "name": "ipython",
    "version": 3
   },
   "file_extension": ".py",
   "mimetype": "text/x-python",
   "name": "python",
   "nbconvert_exporter": "python",
   "pygments_lexer": "ipython3",
   "version": "3.5.2"
  }
 },
 "nbformat": 4,
 "nbformat_minor": 2
}
