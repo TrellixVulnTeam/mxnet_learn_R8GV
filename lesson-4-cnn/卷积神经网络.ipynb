{
 "cells": [
  {
   "cell_type": "markdown",
   "metadata": {},
   "source": [
    "卷积神经网络是指主要由卷积层构成的神经网络。\n",
    "### 卷积层\n",
    "卷积层跟前面的全连接层类似，但输入和权重不是做简单的矩阵乘法，而是使用每次作用在一个**窗口**上的卷积"
   ]
  },
  {
   "cell_type": "code",
   "execution_count": 1,
   "metadata": {},
   "outputs": [
    {
     "name": "stdout",
     "output_type": "stream",
     "text": [
      "input: \n",
      "[[[[ 0.  1.  2.]\n",
      "   [ 3.  4.  5.]\n",
      "   [ 6.  7.  8.]]]]\n",
      "<NDArray 1x1x3x3 @cpu(0)> \n",
      "weight: \n",
      "[[[[ 0.  1.]\n",
      "   [ 2.  3.]]]]\n",
      "<NDArray 1x1x2x2 @cpu(0)> \n",
      "bias: \n",
      "[ 1.]\n",
      "<NDArray 1 @cpu(0)> \n",
      "output: \n",
      "[[[[ 20.  26.]\n",
      "   [ 38.  44.]]]]\n",
      "<NDArray 1x1x2x2 @cpu(0)>\n"
     ]
    }
   ],
   "source": [
    "from mxnet import nd\n",
    "\n",
    "w = nd.arange(4).reshape((1, 1, 2, 2))\n",
    "b = nd.array([1])\n",
    "data = nd.arange(9).reshape((1, 1, 3, 3))\n",
    "out = nd.Convolution(data, w, b, kernel= w.shape[2:], num_filter=w.shape[1])\n",
    "\n",
    "print('input:', data, '\\nweight:', w, '\\nbias:', b, '\\noutput:', out)"
   ]
  },
  {
   "cell_type": "code",
   "execution_count": 2,
   "metadata": {},
   "outputs": [
    {
     "name": "stdout",
     "output_type": "stream",
     "text": [
      "input: \n",
      "[[[[ 0.  1.  2.]\n",
      "   [ 3.  4.  5.]\n",
      "   [ 6.  7.  8.]]]]\n",
      "<NDArray 1x1x3x3 @cpu(0)> \n",
      "weight: \n",
      "[[[[ 0.  1.]\n",
      "   [ 2.  3.]]]]\n",
      "<NDArray 1x1x2x2 @cpu(0)> \n",
      "bias: \n",
      "[ 1.]\n",
      "<NDArray 1 @cpu(0)> \n",
      "output: \n",
      "[[[[  1.   9.]\n",
      "   [ 22.  44.]]]]\n",
      "<NDArray 1x1x2x2 @cpu(0)>\n"
     ]
    }
   ],
   "source": [
    "# 控制窗口的填充方式等\n",
    "out = nd.Convolution(data, w, b, kernel=w.shape[2:], num_filter=w.shape[1], stride=(2, 2), pad=(1, 1))\n",
    "print('input:', data, '\\nweight:', w, '\\nbias:', b, '\\noutput:', out)"
   ]
  },
  {
   "cell_type": "code",
   "execution_count": 3,
   "metadata": {},
   "outputs": [
    {
     "name": "stdout",
     "output_type": "stream",
     "text": [
      "input: \n",
      "[[[[  0.   1.   2.]\n",
      "   [  3.   4.   5.]\n",
      "   [  6.   7.   8.]]\n",
      "\n",
      "  [[  9.  10.  11.]\n",
      "   [ 12.  13.  14.]\n",
      "   [ 15.  16.  17.]]]]\n",
      "<NDArray 1x2x3x3 @cpu(0)> \n",
      "weight: \n",
      "[[[[ 0.  1.]\n",
      "   [ 2.  3.]]\n",
      "\n",
      "  [[ 4.  5.]\n",
      "   [ 6.  7.]]]]\n",
      "<NDArray 1x2x2x2 @cpu(0)> \n",
      "bias: \n",
      "[ 1.]\n",
      "<NDArray 1 @cpu(0)> \n",
      "output: \n",
      "[[[[ 269.  297.]\n",
      "   [ 353.  381.]]]]\n",
      "<NDArray 1x1x2x2 @cpu(0)>\n"
     ]
    }
   ],
   "source": [
    "w = nd.arange(8).reshape((1, 2, 2, 2))\n",
    "data = nd.arange(18).reshape((1, 2, 3, 3))\n",
    "\n",
    "out = nd.Convolution(data, w, b, kernel=w.shape[2:], num_filter=w.shape[0])\n",
    "\n",
    "print('input:', data, '\\nweight:', w, '\\nbias:', b, '\\noutput:', out)"
   ]
  },
  {
   "cell_type": "code",
   "execution_count": 4,
   "metadata": {},
   "outputs": [
    {
     "name": "stdout",
     "output_type": "stream",
     "text": [
      "(2, 2)\n",
      "1\n"
     ]
    }
   ],
   "source": [
    "print(w.shape[2:])\n",
    "print(w.shape[0])"
   ]
  },
  {
   "cell_type": "code",
   "execution_count": 5,
   "metadata": {},
   "outputs": [
    {
     "name": "stdout",
     "output_type": "stream",
     "text": [
      "input: \n",
      "[[[[  0.   1.   2.]\n",
      "   [  3.   4.   5.]\n",
      "   [  6.   7.   8.]]\n",
      "\n",
      "  [[  9.  10.  11.]\n",
      "   [ 12.  13.  14.]\n",
      "   [ 15.  16.  17.]]]]\n",
      "<NDArray 1x2x3x3 @cpu(0)> \n",
      "weight: \n",
      "[[[[  0.   1.]\n",
      "   [  2.   3.]]\n",
      "\n",
      "  [[  4.   5.]\n",
      "   [  6.   7.]]]\n",
      "\n",
      "\n",
      " [[[  8.   9.]\n",
      "   [ 10.  11.]]\n",
      "\n",
      "  [[ 12.  13.]\n",
      "   [ 14.  15.]]]]\n",
      "<NDArray 2x2x2x2 @cpu(0)> \n",
      "bias: \n",
      "[ 1.  2.]\n",
      "<NDArray 2 @cpu(0)> \n",
      "output: \n",
      "[[[[  269.   297.]\n",
      "   [  353.   381.]]\n",
      "\n",
      "  [[  686.   778.]\n",
      "   [  962.  1054.]]]]\n",
      "<NDArray 1x2x2x2 @cpu(0)>\n"
     ]
    }
   ],
   "source": [
    "w = nd.arange(16).reshape((2, 2, 2, 2))\n",
    "data = nd.arange(18).reshape((1, 2, 3, 3))\n",
    "b = nd.array([1, 2])\n",
    "\n",
    "out = nd.Convolution(data, w, b, kernel=w.shape[2:], num_filter=w.shape[0])\n",
    "\n",
    "print('input:', data, '\\nweight:', w, '\\nbias:', b, '\\noutput:', out)"
   ]
  },
  {
   "cell_type": "markdown",
   "metadata": {},
   "source": [
    "### 池化层\n",
    "每次看一个小窗口，然后选出窗口里面最大的元素，或者平均元素作为输出。"
   ]
  },
  {
   "cell_type": "code",
   "execution_count": 6,
   "metadata": {},
   "outputs": [
    {
     "name": "stdout",
     "output_type": "stream",
     "text": [
      "data: \n",
      "[[[[  0.   1.   2.]\n",
      "   [  3.   4.   5.]\n",
      "   [  6.   7.   8.]]\n",
      "\n",
      "  [[  9.  10.  11.]\n",
      "   [ 12.  13.  14.]\n",
      "   [ 15.  16.  17.]]]]\n",
      "<NDArray 1x2x3x3 @cpu(0)> \n",
      "max_pooling: \n",
      "[[[[  4.   5.]\n",
      "   [  7.   8.]]\n",
      "\n",
      "  [[ 13.  14.]\n",
      "   [ 16.  17.]]]]\n",
      "<NDArray 1x2x2x2 @cpu(0)> \n",
      "avg_pooling: \n",
      "[[[[  2.   3.]\n",
      "   [  5.   6.]]\n",
      "\n",
      "  [[ 11.  12.]\n",
      "   [ 14.  15.]]]]\n",
      "<NDArray 1x2x2x2 @cpu(0)>\n"
     ]
    }
   ],
   "source": [
    "data = nd.arange(18).reshape((1, 2, 3, 3))\n",
    "\n",
    "max_pool = nd.Pooling(data=data, pool_type='max', kernel=(2, 2))\n",
    "avg_pool = nd.Pooling(data=data, pool_type='avg', kernel=(2, 2))\n",
    "\n",
    "print('data:', data, '\\nmax_pooling:', max_pool, '\\navg_pooling:', avg_pool)"
   ]
  },
  {
   "cell_type": "markdown",
   "metadata": {},
   "source": [
    "### 使用卷积层和池化层构建模型"
   ]
  },
  {
   "cell_type": "markdown",
   "metadata": {},
   "source": [
    "##### 计算方法：https://discuss.gluon.ai/t/topic/736/48\n",
    ">输入数据： \n",
    "shape(256, 1, 28, 28), W1(20, 1, 5, 5)\n",
    "\n",
    ">h1_conv:    shape(256, 20, 28-stride+1, 28-stride+1)=(256, 20, 24, 24)\n",
    "\n",
    ">h1: shape(256,20, 24/stride, 24/stride) = (256, 20, 12, 12), W2(50, 20, 3, 3)\n",
    "\n",
    ">h2_conv: (256, 50, 12 - 3 + 1,12 - 3 + 1)=(256, 50, 10, 10)\n",
    "\n",
    ">h2: (256, 50, 10/2, 10/2) =  (256, 50, 5, 5)\n",
    "\n",
    ">flatten (256, 50*5*5)= (256, 1250)"
   ]
  },
  {
   "cell_type": "code",
   "execution_count": 7,
   "metadata": {},
   "outputs": [],
   "source": [
    "import sys\n",
    "sys.path.append('..')\n",
    "from utils import load_data_fashion_mnist\n",
    "\n",
    "batch_size = 256\n",
    "train_data, test_data = load_data_fashion_mnist(batch_size)"
   ]
  },
  {
   "cell_type": "code",
   "execution_count": 8,
   "metadata": {},
   "outputs": [
    {
     "data": {
      "text/plain": [
       "gpu(0)"
      ]
     },
     "execution_count": 8,
     "metadata": {},
     "output_type": "execute_result"
    }
   ],
   "source": [
    "import mxnet as mx\n",
    "\n",
    "try:\n",
    "    ctx = mx.gpu()\n",
    "    _ = nd.zeros((1,), ctx=ctx)\n",
    "except:\n",
    "    ctx = mx.cpu()\n",
    "ctx"
   ]
  },
  {
   "cell_type": "code",
   "execution_count": 9,
   "metadata": {},
   "outputs": [],
   "source": [
    "# LeNet 网络模型\n",
    "weight_scale = .01\n",
    "\n",
    "#output channels = 20, kernel = (5, 5)\n",
    "W1 = nd.random_normal(shape=(20, 1, 5, 5), scale=weight_scale, ctx=ctx)\n",
    "b1 = nd.zeros(W1.shape[0], ctx=ctx)\n",
    "\n",
    "#output channels = 50, kernel = (3, 3)\n",
    "W2 = nd.random_normal(shape=(50, 20, 3, 3), scale=weight_scale, ctx=ctx)\n",
    "b2 = nd.zeros(W2.shape[0], ctx=ctx)\n",
    "\n",
    "#output dim = 128\n",
    "W3 = nd.random_normal(shape=(1250, 128), scale=weight_scale, ctx=ctx)\n",
    "b3 = nd.zeros(W3.shape[1], ctx=ctx)\n",
    "\n",
    "#output dim = 10\n",
    "W4 = nd.random_normal(shape=(W3.shape[1], 10), scale=weight_scale, ctx=ctx)\n",
    "b4 = nd.zeros(W4.shape[1], ctx=ctx)\n",
    "\n",
    "params = [W1, b1, W2, b2, W3, b3, W4, b4]\n",
    "for param in params:\n",
    "    param.attach_grad()"
   ]
  },
  {
   "cell_type": "code",
   "execution_count": 10,
   "metadata": {},
   "outputs": [],
   "source": [
    "#网络\n",
    "def net(X, verboss=False):\n",
    "    X = X.as_in_context(W1.context)\n",
    "    \n",
    "    #第一层卷积\n",
    "    h1_conv = nd.Convolution(data=X, weight=W1, bias=b1, kernel=W1.shape[2:], num_filter=W1.shape[0])\n",
    "    h1_activation = nd.relu(h1_conv)\n",
    "    h1 = nd.Pooling(data=h1_activation, pool_type='max', kernel=(2, 2), stride=(2, 2))\n",
    "    \n",
    "    #第二层卷积\n",
    "    h2_conv = nd.Convolution(data=h1, weight=W2, bias=b2, kernel=W2.shape[2:], num_filter=W2.shape[0])\n",
    "    h2_activation = nd.relu(h2_conv)\n",
    "    h2 = nd.Pooling(data=h2_activation, pool_type='max', kernel=(2, 2), stride=(2, 2))\n",
    "    h2 = nd.flatten(h2)\n",
    "    \n",
    "    #第一层全连接\n",
    "    h3_liner = nd.dot(h2, W3) + b3\n",
    "    h3 = nd.relu(h3_liner)\n",
    "    \n",
    "    #第二层全连接\n",
    "    h4_liner = nd.dot(h3, W4) + b4\n",
    "    if verboss:\n",
    "        print('1st conv block:', h1.shape)\n",
    "        print('2nd conv block:', h2.shape)\n",
    "        print('1st dense:', h3.shape)\n",
    "        print('2nd dense:', h4_liner.shape)\n",
    "        print('output:', h4_liner)\n",
    "    return h4_liner"
   ]
  },
  {
   "cell_type": "code",
   "execution_count": 11,
   "metadata": {},
   "outputs": [
    {
     "name": "stdout",
     "output_type": "stream",
     "text": [
      "1st conv block: (256, 20, 12, 12)\n",
      "2nd conv block: (256, 1250)\n",
      "1st dense: (256, 128)\n",
      "2nd dense: (256, 10)\n",
      "output: \n",
      "[[ -2.02656065e-05   1.79427698e-05   8.49295611e-06 ...,   8.63793830e-05\n",
      "    5.56598097e-05  -3.88981316e-05]\n",
      " [  1.40335360e-05   1.95785396e-05   1.35214996e-05 ...,   4.92718173e-05\n",
      "    1.29033542e-05  -3.51454728e-05]\n",
      " [  6.67927634e-06  -8.64464891e-06   5.85202615e-05 ...,   1.39381722e-04\n",
      "   -2.49788827e-05   2.11280440e-06]\n",
      " ..., \n",
      " [ -3.26744048e-05  -4.21523218e-05   5.03123920e-05 ...,   2.46529489e-05\n",
      "    1.62451051e-05   4.58401519e-05]\n",
      " [ -3.23488312e-05   1.34215225e-05   6.32679585e-05 ...,   1.08290595e-04\n",
      "    1.26568812e-05   1.55653470e-06]\n",
      " [ -3.58920806e-06  -8.62017259e-06   5.09955462e-05 ...,   1.06604697e-04\n",
      "   -2.80516906e-06  -5.09478832e-06]]\n",
      "<NDArray 256x10 @gpu(0)>\n"
     ]
    }
   ],
   "source": [
    "for data, _ in train_data:\n",
    "    net(data, verboss=True)\n",
    "    break"
   ]
  },
  {
   "cell_type": "markdown",
   "metadata": {},
   "source": [
    "### 训练"
   ]
  },
  {
   "cell_type": "code",
   "execution_count": 12,
   "metadata": {},
   "outputs": [
    {
     "name": "stdout",
     "output_type": "stream",
     "text": [
      "epoch 0. loss: 2.302451, train acc 0.102781, test acc 0.099960\n",
      "epoch 1. loss: 1.484592, train acc 0.442074, test acc 0.686198\n",
      "epoch 2. loss: 0.672021, train acc 0.738181, test acc 0.781751\n",
      "epoch 3. loss: 0.530988, train acc 0.798160, test acc 0.814503\n",
      "epoch 4. loss: 0.461873, train acc 0.828893, test acc 0.843450\n"
     ]
    }
   ],
   "source": [
    "from mxnet import autograd\n",
    "from utils import SGD, accuracy, evaluate_accuracy\n",
    "from mxnet import gluon\n",
    "\n",
    "softmax_cross_entropy = gluon.loss.SoftmaxCrossEntropyLoss()\n",
    "\n",
    "learning_rate = .2\n",
    "\n",
    "for epoch in range(5):\n",
    "    train_loss = 0.\n",
    "    train_acc = 0.\n",
    "    for data, label in train_data:\n",
    "        label = label.as_in_context(ctx)\n",
    "        with autograd.record():\n",
    "            output = net(data)\n",
    "            loss = softmax_cross_entropy(output, label)\n",
    "        loss.backward()\n",
    "        SGD(params, learning_rate/batch_size)\n",
    "        \n",
    "        train_loss += nd.mean(loss).asscalar()\n",
    "        train_acc += accuracy(output, label)\n",
    "        \n",
    "    test_acc = evaluate_accuracy(test_data, net, ctx)\n",
    "    print('epoch %d. loss: %f, train acc %f, test acc %f' %(epoch, train_loss/len(train_data),\n",
    "                                                           train_acc/len(train_data), test_acc))"
   ]
  }
 ],
 "metadata": {
  "kernelspec": {
   "display_name": "Python 3",
   "language": "python",
   "name": "python3"
  },
  "language_info": {
   "codemirror_mode": {
    "name": "ipython",
    "version": 3
   },
   "file_extension": ".py",
   "mimetype": "text/x-python",
   "name": "python",
   "nbconvert_exporter": "python",
   "pygments_lexer": "ipython3",
   "version": "3.6.5"
  }
 },
 "nbformat": 4,
 "nbformat_minor": 2
}
