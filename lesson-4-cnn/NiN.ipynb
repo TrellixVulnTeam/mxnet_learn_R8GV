{
 "cells": [
  {
   "cell_type": "markdown",
   "metadata": {},
   "source": [
    "#### NiN 网络中的网络\n",
    "\n",
    "使用kernel大小为$1 \\times 1$ 的卷积"
   ]
  },
  {
   "cell_type": "markdown",
   "metadata": {},
   "source": [
    "下面代码定义了一个这样的代码块：它由一个正常的卷积层接上两个kernel是 $1 \\times 1$ 的卷积层构成。后面两个充当两个全连接层的角色。"
   ]
  },
  {
   "cell_type": "code",
   "execution_count": 1,
   "metadata": {},
   "outputs": [
    {
     "ename": "RuntimeError",
     "evalue": "module compiled against API version 0xc but this version of numpy is 0xb",
     "output_type": "error",
     "traceback": [
      "\u001b[0;31m---------------------------------------------------------------------------\u001b[0m",
      "\u001b[0;31mRuntimeError\u001b[0m                              Traceback (most recent call last)",
      "\u001b[0;31mRuntimeError\u001b[0m: module compiled against API version 0xc but this version of numpy is 0xb"
     ]
    },
    {
     "ename": "RuntimeError",
     "evalue": "module compiled against API version 0xc but this version of numpy is 0xb",
     "output_type": "error",
     "traceback": [
      "\u001b[0;31m---------------------------------------------------------------------------\u001b[0m",
      "\u001b[0;31mRuntimeError\u001b[0m                              Traceback (most recent call last)",
      "\u001b[0;31mRuntimeError\u001b[0m: module compiled against API version 0xc but this version of numpy is 0xb"
     ]
    }
   ],
   "source": [
    "from mxnet.gluon import nn\n",
    "\n",
    "def mlpconv(channels, kernel_size, padding, strides=1, max_pooling=True):\n",
    "    out = nn.Sequential()\n",
    "    out.add(\n",
    "        nn.Conv2D(channels=channels, kernel_size=kernel_size, strides=strides, padding=padding, activation='relu'),\n",
    "        nn.Conv2D(channels=channels, kernel_size=1, padding=0, strides=1, activation='relu'),\n",
    "        nn.Conv2D(channels=channels, kernel_size=1, padding=0, strides=1, activation='relu')\n",
    "    )\n",
    "    if max_pooling:\n",
    "        out.add(nn.MaxPool2D(pool_size=3, strides=2))\n",
    "    return out"
   ]
  },
  {
   "cell_type": "code",
   "execution_count": 4,
   "metadata": {},
   "outputs": [
    {
     "data": {
      "text/plain": [
       "(32, 64, 6, 6)"
      ]
     },
     "execution_count": 4,
     "metadata": {},
     "output_type": "execute_result"
    }
   ],
   "source": [
    "from mxnet import nd\n",
    "\n",
    "blk = mlpconv(64, 3, 0)\n",
    "blk.initialize()\n",
    "\n",
    "x = nd.random.uniform(shape=(32, 3, 16, 16))\n",
    "y = blk(x)\n",
    "y.shape"
   ]
  },
  {
   "cell_type": "markdown",
   "metadata": {},
   "source": [
    "NiN 的卷积层的参数跟AlexNet类似，使用三组不同的设定\n",
    "\n",
    "- kernel: $11 \\times 11$, channels: 96\n",
    "- kernel: $5 \\times 5$, channels: 256\n",
    "- kernel: $3 \\times 3$, channels: 384\n",
    "\n",
    "除了使用了$1 \\times 1$卷积外，NiN在最后不是使用全连接，而是使用通道数为输出类别个数的`mlpconv`, 外接一个平均池化层来将每个通道例的数值平均称一个标量。"
   ]
  },
  {
   "cell_type": "code",
   "execution_count": 5,
   "metadata": {},
   "outputs": [],
   "source": [
    "net = nn.Sequential()\n",
    "with net.name_scope():\n",
    "    net.add(\n",
    "        mlpconv(96, 11, 0, strides=4),\n",
    "        mlpconv(256, 5, 2),\n",
    "        mlpconv(384, 3, 1),\n",
    "        nn.Dropout(.5),\n",
    "        #目标类为10类\n",
    "        mlpconv(10, 3, 1, max_pooling=False),\n",
    "        # 输入为 batch_size * 10 * 5 * 5, 通过AvgPool2D转成\n",
    "        # batch_size * 10 * 1 * 1\n",
    "        # 我们可以使用 nn.AvgPool2D(pool_size=5)\n",
    "        # 但更方便的是使用全局池化，可以避免估算pool_size大小\n",
    "        nn.GlobalAvgPool2D(),\n",
    "        nn.Flatten()\n",
    "    )"
   ]
  },
  {
   "cell_type": "markdown",
   "metadata": {},
   "source": [
    "#### 获取数据训练"
   ]
  },
  {
   "cell_type": "code",
   "execution_count": null,
   "metadata": {},
   "outputs": [
    {
     "name": "stdout",
     "output_type": "stream",
     "text": [
      "Start training on  cpu(0)\n"
     ]
    }
   ],
   "source": [
    "import sys\n",
    "sys.path.append('..')\n",
    "import utils\n",
    "from mxnet import gluon, init\n",
    "\n",
    "train_data, test_data = utils.load_data_fashion_mnist(batch_size=64, resize=224)\n",
    "\n",
    "ctx = utils.try_gpu()\n",
    "net.initialize(ctx=ctx, init=init.Xavier())\n",
    "\n",
    "loss = gluon.loss.SoftmaxCrossEntropyLoss()\n",
    "trainer = gluon.Trainer(net.collect_params(), 'sgd', {'learning_rate': 0.1})\n",
    "\n",
    "utils.train(train_data, test_data, net, loss, trainer, ctx, num_epochs=1)"
   ]
  },
  {
   "cell_type": "code",
   "execution_count": null,
   "metadata": {},
   "outputs": [],
   "source": []
  }
 ],
 "metadata": {
  "kernelspec": {
   "display_name": "Python 3",
   "language": "python",
   "name": "python3"
  },
  "language_info": {
   "codemirror_mode": {
    "name": "ipython",
    "version": 3
   },
   "file_extension": ".py",
   "mimetype": "text/x-python",
   "name": "python",
   "nbconvert_exporter": "python",
   "pygments_lexer": "ipython3",
   "version": "3.6.5"
  }
 },
 "nbformat": 4,
 "nbformat_minor": 2
}
