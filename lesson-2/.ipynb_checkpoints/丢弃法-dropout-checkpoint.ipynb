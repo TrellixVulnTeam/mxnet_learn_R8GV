{
 "cells": [
  {
   "cell_type": "markdown",
   "metadata": {},
   "source": [
    "##### 丢弃法的概念\n",
    "对输入层或隐含层做如下操作：\n",
    "\n",
    "- 随机选择一部分改层的输出作为丢弃元素\n",
    "- 把丢弃元素乘以0\n",
    "- 把非丢弃元素拉伸"
   ]
  },
  {
   "cell_type": "code",
   "execution_count": 1,
   "metadata": {},
   "outputs": [],
   "source": [
    "# 实现\n",
    "from mxnet import nd\n",
    "\n",
    "def dropout(X, drop_probability): #drop_probability 定义元素被丢弃的概率\n",
    "    keep_probability = 1 - drop_probability\n",
    "    assert 0 <= keep_probability <= 1\n",
    "    #当概率为1时，将所有元素都丢弃\n",
    "    if keep_probability == 0:\n",
    "        return X.zeros_like()\n",
    "    \n",
    "    mask = nd.random.uniform(0, 1.0, X.shape, ctx=X.context) < keep_probability\n",
    "    #print('mask:', mask)\n",
    "    scale = 1 / keep_probability\n",
    "    #print('scale:', scale)\n",
    "    return mask * X * scale"
   ]
  },
  {
   "cell_type": "code",
   "execution_count": 2,
   "metadata": {},
   "outputs": [
    {
     "data": {
      "text/plain": [
       "\n",
       "[[  0.   1.   2.   3.]\n",
       " [  4.   5.   6.   7.]\n",
       " [  8.   9.  10.  11.]\n",
       " [ 12.  13.  14.  15.]\n",
       " [ 16.  17.  18.  19.]]\n",
       "<NDArray 5x4 @cpu(0)>"
      ]
     },
     "execution_count": 2,
     "metadata": {},
     "output_type": "execute_result"
    }
   ],
   "source": [
    "A = nd.arange(20).reshape((5, 4))\n",
    "dropout(A, 0.0)"
   ]
  },
  {
   "cell_type": "code",
   "execution_count": 3,
   "metadata": {},
   "outputs": [
    {
     "data": {
      "text/plain": [
       "\n",
       "[[  0.   0.   0.   6.]\n",
       " [  0.  10.   0.   0.]\n",
       " [ 16.  18.  20.   0.]\n",
       " [ 24.  26.   0.   0.]\n",
       " [  0.  34.   0.   0.]]\n",
       "<NDArray 5x4 @cpu(0)>"
      ]
     },
     "execution_count": 3,
     "metadata": {},
     "output_type": "execute_result"
    }
   ],
   "source": [
    "dropout(A, 0.5)"
   ]
  },
  {
   "cell_type": "code",
   "execution_count": 4,
   "metadata": {},
   "outputs": [
    {
     "data": {
      "text/plain": [
       "\n",
       "[[ 0.  0.  0.  0.]\n",
       " [ 0.  0.  0.  0.]\n",
       " [ 0.  0.  0.  0.]\n",
       " [ 0.  0.  0.  0.]\n",
       " [ 0.  0.  0.  0.]]\n",
       "<NDArray 5x4 @cpu(0)>"
      ]
     },
     "execution_count": 4,
     "metadata": {},
     "output_type": "execute_result"
    }
   ],
   "source": [
    "dropout(A, 1.0)"
   ]
  },
  {
   "cell_type": "markdown",
   "metadata": {},
   "source": [
    "#### 丢弃法的本质\n",
    "集成学习：对训练数据集有放回地采样若干次并分别训练若干个不同的分类器，测试时，把这些分类器的结果继承一下作为最终分类结果\n",
    "\n",
    "而丢弃法在模拟集成学习。\n",
    "\n",
    "![](http://zh.gluon.ai/_images/dropout.png)"
   ]
  },
  {
   "cell_type": "markdown",
   "metadata": {},
   "source": [
    "丢弃法实质上是对每一个这样的数据集分别训练一个原神经网络子集的分类器。与一般的集成学习不同，这里每个原神经网络子集的分类器用的是同一套参数。因此丢弃法只是在模拟集成学习。"
   ]
  },
  {
   "cell_type": "code",
   "execution_count": 5,
   "metadata": {},
   "outputs": [],
   "source": [
    "# 数据获取\n",
    "import sys\n",
    "sys.path.append('..')\n",
    "import utils\n",
    "\n",
    "batch_size = 256\n",
    "train_data, test_data = utils.load_data_fashion_mnist(batch_size)"
   ]
  },
  {
   "cell_type": "code",
   "execution_count": 6,
   "metadata": {},
   "outputs": [],
   "source": [
    "#定义网络各项参数\n",
    "\n",
    "num_inputs = 28 * 28 #输入28 * 28\n",
    "num_outputs = 10 #输出10分类\n",
    "\n",
    "num_hidden1 = 256 #隐含层1\n",
    "num_hidden2 = 256 #隐含层2\n",
    "weight_scale = .01 \n",
    "\n",
    "W1 = nd.random_normal(shape=(num_inputs, num_hidden1), scale=weight_scale)\n",
    "b1 = nd.zeros(num_hidden1)\n",
    "\n",
    "W2 = nd.random_normal(shape=(num_hidden1, num_hidden2), scale=weight_scale)\n",
    "b2 = nd.zeros(num_hidden2)\n",
    "\n",
    "W3 = nd.random_normal(shape=(num_hidden2, num_outputs), scale=weight_scale)\n",
    "b3 = nd.zeros(num_outputs)\n",
    "\n",
    "params = [W1, b1, W2, b2, W3, b3]\n",
    "\n",
    "for param in params:\n",
    "    param.attach_grad()"
   ]
  },
  {
   "cell_type": "markdown",
   "metadata": {},
   "source": [
    "我们的模型就是将 层（全连接）和激活函数（Relu）串起来，并在应用激活函数后添加丢弃层。每个丢弃层的元素丢弃概率可以分别设置。一般情况下，我们推荐把更靠近输入层的元素的元素丢弃概率设置的更小一点。"
   ]
  },
  {
   "cell_type": "code",
   "execution_count": 7,
   "metadata": {},
   "outputs": [],
   "source": [
    "# 定义网络 \n",
    "drop_prob1 = 0.2\n",
    "drop_prob2 = 0.5\n",
    "\n",
    "def net(X):\n",
    "    X = X.reshape((-1, num_inputs))\n",
    "    #第一层全连接\n",
    "    h1 = nd.relu(nd.dot(X, W1) + b1)\n",
    "    #在第一层全连接后添加丢弃层\n",
    "    h1 = dropout(h1, drop_prob1)\n",
    "    #第二层全连接\n",
    "    h2 = nd.relu(nd.dot(h1, W2) + b2)\n",
    "    #在第二层全连接后添加丢弃层\n",
    "    h2 = dropout(h2, drop_prob2)\n",
    "    return nd.dot(h2, W3) + b3"
   ]
  },
  {
   "cell_type": "code",
   "execution_count": 8,
   "metadata": {},
   "outputs": [
    {
     "name": "stdout",
     "output_type": "stream",
     "text": [
      "epoch 0. loss: 1.145889, train acc 0.552317, test acc 0.722656\n",
      "epoch 1. loss: 0.592222, train acc 0.779197, test acc 0.803586\n",
      "epoch 2. loss: 0.501117, train acc 0.814203, test acc 0.804788\n",
      "epoch 3. loss: 0.457477, train acc 0.834168, test acc 0.830529\n",
      "epoch 4. loss: 0.422016, train acc 0.845186, test acc 0.838341\n"
     ]
    }
   ],
   "source": [
    "# 训练\n",
    "from mxnet import autograd\n",
    "from mxnet import gluon\n",
    "\n",
    "softmax_cross_entropy = gluon.loss.SoftmaxCrossEntropyLoss()\n",
    "\n",
    "learning_rate = .5\n",
    "\n",
    "for epoch in range(5):\n",
    "    train_loss = 0.\n",
    "    train_acc = 0.\n",
    "    for data, label in train_data:\n",
    "        with autograd.record():\n",
    "            output = net(data)\n",
    "            loss = softmax_cross_entropy(output, label)\n",
    "        loss.backward()\n",
    "        utils.SGD(params, learning_rate / batch_size)\n",
    "        \n",
    "        train_loss += nd.mean(loss).asscalar()\n",
    "        train_acc += utils.accuracy(output, label)\n",
    "    test_acc = utils.evaluate_accuracy(test_data, net)\n",
    "    print('epoch %d. loss: %f, train acc %f, test acc %f' %(epoch, train_loss / len(train_data), \n",
    "                                                            train_acc / len(train_data), test_acc))"
   ]
  },
  {
   "cell_type": "code",
   "execution_count": null,
   "metadata": {},
   "outputs": [],
   "source": []
  }
 ],
 "metadata": {
  "kernelspec": {
   "display_name": "Python 3",
   "language": "python",
   "name": "python3"
  },
  "language_info": {
   "codemirror_mode": {
    "name": "ipython",
    "version": 3
   },
   "file_extension": ".py",
   "mimetype": "text/x-python",
   "name": "python",
   "nbconvert_exporter": "python",
   "pygments_lexer": "ipython3",
   "version": "3.6.4"
  }
 },
 "nbformat": 4,
 "nbformat_minor": 2
}
