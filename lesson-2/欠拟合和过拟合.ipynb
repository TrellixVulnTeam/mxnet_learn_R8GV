{
 "cells": [
  {
   "cell_type": "markdown",
   "metadata": {},
   "source": [
    "+ 欠拟合：机器学习模型无法得到较低的训练误差\n",
    "+ 过拟合：机器学习模型的训练误差远小于其在测试数据集上的误差"
   ]
  },
  {
   "cell_type": "markdown",
   "metadata": {},
   "source": [
    "多项式欠拟合：\n",
    "$$\\hat{y} = b + \\sum_{k=1}^K x^k w_k$$"
   ]
  },
  {
   "cell_type": "markdown",
   "metadata": {},
   "source": [
    "#### 创建数据集"
   ]
  },
  {
   "cell_type": "markdown",
   "metadata": {},
   "source": [
    "使用如下公式创建数据样本：\n",
    "$$y = 1.2x - 3.4x^2 +5.6x^3 + 5.0 + noise$$"
   ]
  },
  {
   "cell_type": "code",
   "execution_count": 1,
   "metadata": {},
   "outputs": [],
   "source": [
    "from mxnet import ndarray as nd\n",
    "from mxnet import autograd\n",
    "from mxnet import gluon\n",
    "\n",
    "num_train = 100\n",
    "num_test = 100\n",
    "true_w = [1.2, -3.4, 5.6]\n",
    "true_b = 5.0"
   ]
  },
  {
   "cell_type": "code",
   "execution_count": 5,
   "metadata": {},
   "outputs": [
    {
     "data": {
      "text/plain": [
       "('x:', \n",
       " [[-0.64744008]\n",
       "  [-0.55203336]\n",
       "  [ 0.10064353]\n",
       "  [-0.33182386]\n",
       "  [ 0.49453422]]\n",
       " <NDArray 5x1 @cpu(0)>, 'X:', \n",
       " [[-0.64744008  0.41917866 -0.27139306]\n",
       "  [-0.55203336  0.30474085 -0.16822711]\n",
       "  [ 0.10064353  0.01012912  0.00101943]\n",
       "  [-0.33182386  0.11010707 -0.03653615]\n",
       "  [ 0.49453422  0.2445641   0.12094532]]\n",
       " <NDArray 5x3 @cpu(0)>, 'y:', \n",
       " [ 1.17102313  2.493016    5.16932201  3.98604369  5.42537785]\n",
       " <NDArray 5 @cpu(0)>)"
      ]
     },
     "execution_count": 5,
     "metadata": {},
     "output_type": "execute_result"
    }
   ],
   "source": [
    "#生成对应数据集\n",
    "x = nd.random.normal(shape=(num_train + num_test, 1))\n",
    "X = nd.concat(x, nd.power(x, 2), nd.power(x, 3))\n",
    "y = true_w[0] * X[:, 0] + true_w[1] * X[:, 1] + true_w[2] * X[:, 2] + true_b\n",
    "y += .1 * nd.random.normal(shape=y.shape)\n",
    "\n",
    "('x:', x[:5], 'X:', X[:5], 'y:', y[:5])"
   ]
  },
  {
   "cell_type": "markdown",
   "metadata": {},
   "source": [
    "定义训练和测试步骤"
   ]
  },
  {
   "cell_type": "code",
   "execution_count": 8,
   "metadata": {},
   "outputs": [],
   "source": [
    "import matplotlib as mpl\n",
    "mpl.rcParams['figure.dpi'] = 120\n",
    "import matplotlib.pyplot as plt\n",
    "\n",
    "def train (X_train, X_test, y_train, y_test):\n",
    "    #线性回归模型\n",
    "    net = gluon.nn.Sequential()\n",
    "    with net.name_scope():\n",
    "        net.add(gluon.nn.Dense(1))\n",
    "    net.initialize()\n",
    "    #设置一些参数\n",
    "    learning_rate = 0.01\n",
    "    epochs = 100\n",
    "    batch_size = min(10, y_train.shape[0])\n",
    "    dataset_train = gluon.data.ArrayDataset(X_train, y_train)\n",
    "    data_iter_train = gluon.data.DataLoader(dataset_train, batch_size, shuffle=True)\n",
    "    #梯度下降\n",
    "    trainer = gluon.Trainer(net.collect_params(), 'sgd', {'learning_rate': learning_rate})\n",
    "    #损失函数 均方误差\n",
    "    squaer_loss = gluon.loss.L2Loss()\n",
    "    #保存训练结果和测试损失\n",
    "    train_loss = []\n",
    "    test_loss = []\n",
    "    \n",
    "    for e in range(epochs):\n",
    "        for data, label in data_iter_train:\n",
    "            with autograd.record():\n",
    "                output = net(data)\n",
    "                loss = squaer_loss(output, label)\n",
    "            loss.backward()\n",
    "            trainer.step(batch_size)\n",
    "        train_loss.append(squaer_loss(net(X_train), y_train).mean().asscalar())\n",
    "        test_loss.append(squaer_loss(net(X_test), y_test).mean().asscalar())\n",
    "    \n",
    "    #打印结果\n",
    "    plt.plot(train_loss)\n",
    "    plt.plot(test_loss)\n",
    "    plt.legend('train', 'test')\n",
    "    plt.show()\n",
    "    return ('learned weight', net[0].weight.data(),\n",
    "           'learned bias', net[0].bias.data())"
   ]
  },
  {
   "cell_type": "code",
   "execution_count": 10,
   "metadata": {},
   "outputs": [
    {
     "name": "stderr",
     "output_type": "stream",
     "text": [
      "/usr/lib/python3/dist-packages/matplotlib/legend.py:633: UserWarning: Legend does not support 't' instances.\n",
      "A proxy artist may be used instead.\n",
      "See: http://matplotlib.org/users/legend_guide.html#using-proxy-artist\n",
      "  \"#using-proxy-artist\".format(orig_handle)\n",
      "/usr/lib/python3/dist-packages/matplotlib/legend.py:633: UserWarning: Legend does not support 'r' instances.\n",
      "A proxy artist may be used instead.\n",
      "See: http://matplotlib.org/users/legend_guide.html#using-proxy-artist\n",
      "  \"#using-proxy-artist\".format(orig_handle)\n",
      "/usr/lib/python3/dist-packages/matplotlib/legend.py:633: UserWarning: Legend does not support 'a' instances.\n",
      "A proxy artist may be used instead.\n",
      "See: http://matplotlib.org/users/legend_guide.html#using-proxy-artist\n",
      "  \"#using-proxy-artist\".format(orig_handle)\n",
      "/usr/lib/python3/dist-packages/matplotlib/legend.py:633: UserWarning: Legend does not support 'i' instances.\n",
      "A proxy artist may be used instead.\n",
      "See: http://matplotlib.org/users/legend_guide.html#using-proxy-artist\n",
      "  \"#using-proxy-artist\".format(orig_handle)\n"
     ]
    },
    {
     "data": {
      "image/png": "[encoded data removed]",
      "text/plain": [
       "<matplotlib.figure.Figure at 0x7f894ca4a278>"
      ]
     },
     "metadata": {},
     "output_type": "display_data"
    },
    {
     "data": {
      "text/plain": [
       "('learned weight', \n",
       " [[ 1.13509595 -3.380481    5.61624956]]\n",
       " <NDArray 1x3 @cpu(0)>, 'learned bias', \n",
       " [ 4.96317148]\n",
       " <NDArray 1 @cpu(0)>)"
      ]
     },
     "execution_count": 10,
     "metadata": {},
     "output_type": "execute_result"
    }
   ],
   "source": [
    "# 正常情况下的训练\n",
    "train(X[:num_train, :], X[num_train:, :], y[:num_train], y[num_train:])"
   ]
  },
  {
   "cell_type": "code",
   "execution_count": 11,
   "metadata": {},
   "outputs": [
    {
     "name": "stderr",
     "output_type": "stream",
     "text": [
      "/usr/lib/python3/dist-packages/matplotlib/legend.py:633: UserWarning: Legend does not support 't' instances.\n",
      "A proxy artist may be used instead.\n",
      "See: http://matplotlib.org/users/legend_guide.html#using-proxy-artist\n",
      "  \"#using-proxy-artist\".format(orig_handle)\n",
      "/usr/lib/python3/dist-packages/matplotlib/legend.py:633: UserWarning: Legend does not support 'r' instances.\n",
      "A proxy artist may be used instead.\n",
      "See: http://matplotlib.org/users/legend_guide.html#using-proxy-artist\n",
      "  \"#using-proxy-artist\".format(orig_handle)\n",
      "/usr/lib/python3/dist-packages/matplotlib/legend.py:633: UserWarning: Legend does not support 'a' instances.\n",
      "A proxy artist may be used instead.\n",
      "See: http://matplotlib.org/users/legend_guide.html#using-proxy-artist\n",
      "  \"#using-proxy-artist\".format(orig_handle)\n",
      "/usr/lib/python3/dist-packages/matplotlib/legend.py:633: UserWarning: Legend does not support 'i' instances.\n",
      "A proxy artist may be used instead.\n",
      "See: http://matplotlib.org/users/legend_guide.html#using-proxy-artist\n",
      "  \"#using-proxy-artist\".format(orig_handle)\n"
     ]
    },
    {
     "data": {
      "image/png": "[encoded data removed]",
      "text/plain": [
       "<matplotlib.figure.Figure at 0x7f894f609d68>"
      ]
     },
     "metadata": {},
     "output_type": "display_data"
    },
    {
     "data": {
      "text/plain": [
       "('learned weight', \n",
       " [[ 18.59710884]]\n",
       " <NDArray 1x1 @cpu(0)>, 'learned bias', \n",
       " [ 1.0616194]\n",
       " <NDArray 1 @cpu(0)>)"
      ]
     },
     "execution_count": 11,
     "metadata": {},
     "output_type": "execute_result"
    }
   ],
   "source": [
    "#欠拟合的情况\n",
    "train(x[:num_train, :], x[num_train:, :], y[:num_train], y[num_train:])"
   ]
  },
  {
   "cell_type": "code",
   "execution_count": 12,
   "metadata": {},
   "outputs": [
    {
     "name": "stderr",
     "output_type": "stream",
     "text": [
      "/usr/lib/python3/dist-packages/matplotlib/legend.py:633: UserWarning: Legend does not support 't' instances.\n",
      "A proxy artist may be used instead.\n",
      "See: http://matplotlib.org/users/legend_guide.html#using-proxy-artist\n",
      "  \"#using-proxy-artist\".format(orig_handle)\n",
      "/usr/lib/python3/dist-packages/matplotlib/legend.py:633: UserWarning: Legend does not support 'r' instances.\n",
      "A proxy artist may be used instead.\n",
      "See: http://matplotlib.org/users/legend_guide.html#using-proxy-artist\n",
      "  \"#using-proxy-artist\".format(orig_handle)\n",
      "/usr/lib/python3/dist-packages/matplotlib/legend.py:633: UserWarning: Legend does not support 'a' instances.\n",
      "A proxy artist may be used instead.\n",
      "See: http://matplotlib.org/users/legend_guide.html#using-proxy-artist\n",
      "  \"#using-proxy-artist\".format(orig_handle)\n",
      "/usr/lib/python3/dist-packages/matplotlib/legend.py:633: UserWarning: Legend does not support 'i' instances.\n",
      "A proxy artist may be used instead.\n",
      "See: http://matplotlib.org/users/legend_guide.html#using-proxy-artist\n",
      "  \"#using-proxy-artist\".format(orig_handle)\n"
     ]
    },
    {
     "data": {
      "image/png": "[encoded data removed]",
      "text/plain": [
       "<matplotlib.figure.Figure at 0x7f894c9dfe48>"
      ]
     },
     "metadata": {},
     "output_type": "display_data"
    },
    {
     "data": {
      "text/plain": [
       "('learned weight', \n",
       " [[-0.50036943  0.29591447 -0.14659129]]\n",
       " <NDArray 1x3 @cpu(0)>, 'learned bias', \n",
       " [ 0.97332984]\n",
       " <NDArray 1 @cpu(0)>)"
      ]
     },
     "execution_count": 12,
     "metadata": {},
     "output_type": "execute_result"
    }
   ],
   "source": [
    "# 过拟合\n",
    "train(X[0:2, :], X[num_train:, :], y[0:2], y[num_train:])"
   ]
  },
  {
   "cell_type": "code",
   "execution_count": null,
   "metadata": {},
   "outputs": [],
   "source": []
  }
 ],
 "metadata": {
  "kernelspec": {
   "display_name": "Python 3",
   "language": "python",
   "name": "python3"
  },
  "language_info": {
   "codemirror_mode": {
    "name": "ipython",
    "version": 3
   },
   "file_extension": ".py",
   "mimetype": "text/x-python",
   "name": "python",
   "nbconvert_exporter": "python",
   "pygments_lexer": "ipython3",
   "version": "3.5.2"
  }
 },
 "nbformat": 4,
 "nbformat_minor": 2
}
